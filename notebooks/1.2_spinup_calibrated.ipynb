{
 "cells": [
  {
   "cell_type": "code",
   "execution_count": null,
   "metadata": {},
   "outputs": [],
   "source": [
    "%pylab inline\n",
    "%load_ext autoreload\n",
    "%autoreload 2\n",
    "%reload_ext autoreload\n",
    "import os\n",
    "import shutil\n",
    "from glob import glob\n",
    "import pysumma as ps\n",
    "import pysumma.evaluation as pse\n",
    "from tqdm import tqdm_notebook as tqdm\n",
    "import xarray as xr\n",
    "import pandas as pd\n",
    "from pathlib import Path\n",
    "import seaborn as sns\n",
    "\n",
    "sns.set_context('talk')\n",
    "mpl.style.use('seaborn-bright')\n",
    "mpl.rcParams['figure.figsize'] = (10, 8)\n",
    "\n",
    "from glob import glob\n",
    "import shutil\n",
    "sites = os.listdir('../sites/')\n",
    "config = {site: {'file_manager': f'../sites/{site}/file_manager.txt'} for site in sites}\n",
    "print(len(config))\n",
    "\n",
    "summa_exe = '/pool0/data/andrbenn/ml_summa/summa/bin/summa.exe'\n",
    "NPROCS = 4"
   ]
  },
  {
   "cell_type": "code",
   "execution_count": null,
   "metadata": {},
   "outputs": [],
   "source": [
    "def spinup(sim, name, run_option, period, niters, kwargs={}):\n",
    "    sim.initialize()\n",
    "    sim.apply_config(kwargs.get('config', {}))\n",
    "    sim.spinup(run_option, period=period, niters=niters, run_suffix=f'pysumma_spinup_{name}', **kwargs)\n",
    "    sim.process = None\n",
    "    return sim\n",
    "\n",
    "ens = ps.Ensemble(summa_exe, config, num_workers=NPROCS)"
   ]
  },
  {
   "cell_type": "code",
   "execution_count": null,
   "metadata": {},
   "outputs": [],
   "source": [
    "ens.map(spinup, ('local', '365D', 10))"
   ]
  },
  {
   "cell_type": "code",
   "execution_count": null,
   "metadata": {},
   "outputs": [],
   "source": [
    "print(ens.summary()['success'])"
   ]
  },
  {
   "cell_type": "code",
   "execution_count": null,
   "metadata": {},
   "outputs": [],
   "source": [
    "print(ens.summary()['error'])"
   ]
  },
  {
   "cell_type": "code",
   "execution_count": null,
   "metadata": {},
   "outputs": [],
   "source": [
    "for s in sites:\n",
    "    orig_ic = f'../sites/{s}/params/initial_conditions.nc'\n",
    "    spin_ic = glob(f'../sites/{s}/params/*restart*.nc')[0]\n",
    "    shutil.copy2(spin_ic, orig_ic)"
   ]
  },
  {
   "cell_type": "code",
   "execution_count": null,
   "metadata": {},
   "outputs": [],
   "source": []
  }
 ],
 "metadata": {
  "kernelspec": {
   "display_name": "all",
   "language": "python",
   "name": "all"
  },
  "language_info": {
   "codemirror_mode": {
    "name": "ipython",
    "version": 3
   },
   "file_extension": ".py",
   "mimetype": "text/x-python",
   "name": "python",
   "nbconvert_exporter": "python",
   "pygments_lexer": "ipython3",
   "version": "3.7.3"
  },
  "widgets": {
   "application/vnd.jupyter.widget-state+json": {
    "state": {},
    "version_major": 2,
    "version_minor": 0
   }
  }
 },
 "nbformat": 4,
 "nbformat_minor": 4
}
