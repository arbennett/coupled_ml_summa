{
 "cells": [
  {
   "cell_type": "code",
   "execution_count": null,
   "metadata": {},
   "outputs": [],
   "source": [
    "%pylab inline\n",
    "import os\n",
    "import shutil\n",
    "from glob import glob\n",
    "import pysumma as ps\n",
    "import xarray as xr\n",
    "import pandas as pd\n",
    "from pathlib import Path"
   ]
  },
  {
   "cell_type": "code",
   "execution_count": null,
   "metadata": {},
   "outputs": [],
   "source": [
    "veg_igbp = pd.read_csv('./VEGPARM_IGBP_MODIS_NOAH.TBL', \n",
    "                       index_col=-1, skipinitialspace=True)\n",
    "veg_igbp.index = veg_igbp.index.map(lambda x: x.strip().replace(\"'\", \"\"))\n",
    "\n",
    "soil_rosetta = pd.read_csv('./SOILPARM_ROSETTA.TBL', \n",
    "                           index_col=-1, skipinitialspace=True)\n",
    "soil_rosetta.index = soil_rosetta.index.map(lambda x: x.strip().replace(\"'\", \"\"))"
   ]
  },
  {
   "cell_type": "code",
   "execution_count": null,
   "metadata": {},
   "outputs": [],
   "source": [
    "sites = os.listdir('../sites/')\n",
    "\n",
    "\n",
    "bad_sites = []\n",
    "sim_sites = [s for s in sites if s not in bad_sites]\n",
    "\n",
    "seed = 50334\n",
    "np.random.seed(seed)\n",
    "np.random.shuffle(sim_sites)\n",
    "len(sim_sites)\n",
    "\n",
    "nfold = 5\n",
    "equal_divisor_len = nfold * (len(sim_sites) // nfold)\n",
    "kfold_test_sites = list(np.array(sim_sites[0:equal_divisor_len]).reshape(nfold, -1))\n",
    "kfold_test_sites[-1] = np.hstack([kfold_test_sites[-1], sim_sites[equal_divisor_len:]])\n",
    "kfold_train_sites = [list(set(sim_sites) - set(test_sites)) for test_sites in kfold_test_sites]\n",
    "\n",
    "model_src = [f'../models/train_states_qle_set_{n}.txt' for n in range(nfold)]\n",
    "model_rel_dest = [f'../params/train_states.txt' for n in range(nfold)]\n",
    "executable = '../state_ml_summa/bin/ml_summa'\n",
    "\n",
    "kfold_configs = []\n",
    "for n in range(nfold) :\n",
    "    kfold_sites = kfold_test_sites[n]\n",
    "    config = {site: {'file_manager': f'../sites/{site}/file_manager.txt'} for site in kfold_sites}\n",
    "    \n",
    "    for s, c in config.items():\n",
    "        # set model in file manager\n",
    "        fman = ps.FileManager(c['file_manager'], name='')\n",
    "        fman.options.append(ps.file_manager.FileManagerOption('neuralNetFile', model_rel_dest[n]))\n",
    "        fman['outFilePrefix'] = f'state_nn_output'\n",
    "        \n",
    "        # Create a new initial conditions\n",
    "        #ic_src =  f'../sites/{s}/params/initial_conditions.nc'\n",
    "        #ic_dest = f'../sites/{s}/params/state_initial_conditions.nc'\n",
    "        #shutil.copy(ic_src, ic_dest)\n",
    "        fman['initConditionFile'] = f'../params/state_initial_conditions.nc'\n",
    "        \n",
    "        # save file manager\n",
    "        fman.write(path=str(fman.original_path).replace('file_manager', f'file_manager_state_NN'))\n",
    "        \n",
    "        # copy neural net file over to params\n",
    "        nn_dest = c['file_manager'].replace('file_manager.txt', model_rel_dest[n].replace('../', ''))\n",
    "        shutil.copy(model_src[n], nn_dest)\n",
    "        c['file_manager'] = f'../sites/{s}/file_manager_state_NN.txt'\n",
    "    kfold_configs.append(config)\n",
    "\n",
    "config = kfold_configs[0]\n",
    "for kfc in kfold_configs[1:]:\n",
    "    config.update(kfc)"
   ]
  },
  {
   "cell_type": "code",
   "execution_count": null,
   "metadata": {},
   "outputs": [],
   "source": [
    "ens = ps.Ensemble(executable, config, num_workers=21)\n",
    "ens.run('local')\n",
    "summary = ens.summary()"
   ]
  },
  {
   "cell_type": "code",
   "execution_count": null,
   "metadata": {},
   "outputs": [],
   "source": [
    "failed = summary['error']\n",
    "success = summary['success']\n",
    "\n",
    "len(failed), len(success)"
   ]
  },
  {
   "cell_type": "code",
   "execution_count": null,
   "metadata": {},
   "outputs": [],
   "source": [
    "failed"
   ]
  },
  {
   "cell_type": "code",
   "execution_count": null,
   "metadata": {},
   "outputs": [],
   "source": [
    "print(ens.simulations[summary['error'][0]].stdout[-500:])\n",
    "print(ens.simulations[summary['error'][0]].stdout[0:500])"
   ]
  },
  {
   "cell_type": "code",
   "execution_count": null,
   "metadata": {},
   "outputs": [],
   "source": []
  }
 ],
 "metadata": {
  "kernelspec": {
   "display_name": "all",
   "language": "python",
   "name": "all"
  },
  "language_info": {
   "codemirror_mode": {
    "name": "ipython",
    "version": 3
   },
   "file_extension": ".py",
   "mimetype": "text/x-python",
   "name": "python",
   "nbconvert_exporter": "python",
   "pygments_lexer": "ipython3",
   "version": "3.7.3"
  },
  "widgets": {
   "application/vnd.jupyter.widget-state+json": {
    "state": {},
    "version_major": 2,
    "version_minor": 0
   }
  }
 },
 "nbformat": 4,
 "nbformat_minor": 4
}
