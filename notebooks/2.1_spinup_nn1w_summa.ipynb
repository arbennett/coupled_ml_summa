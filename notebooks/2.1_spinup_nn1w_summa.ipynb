{
 "cells": [
  {
   "cell_type": "code",
   "execution_count": null,
   "metadata": {},
   "outputs": [],
   "source": [
    "%pylab inline\n",
    "import os\n",
    "import shutil\n",
    "from glob import glob\n",
    "import pysumma as ps\n",
    "import xarray as xr\n",
    "import pandas as pd\n",
    "from pathlib import Path"
   ]
  },
  {
   "cell_type": "code",
   "execution_count": null,
   "metadata": {},
   "outputs": [],
   "source": [
    "src_params = glob('../sites/**/best_calibration/params/parameter_trial.nc', recursive=True)\n",
    "sites = [p.split('/')[2] for p in src_params]\n",
    "bad_sites = []\n",
    "sim_sites = [s for s in sites if s not in bad_sites]\n",
    "\n",
    "seed = 50334\n",
    "np.random.seed(seed)\n",
    "np.random.shuffle(sim_sites)\n",
    "len(sim_sites)\n",
    "\n",
    "nfolds = 4\n",
    "kfold_test_sites = np.array(sim_sites).reshape(nfolds, -1)\n",
    "kfold_train_sites = np.vstack([\n",
    "    list(set(sim_sites) - set(train_sites)) for train_sites in kfold_test_sites\n",
    "])\n",
    "kfold_train_sites = np.vstack([\n",
    "    list(set(sim_sites) - set(train_sites)) for train_sites in kfold_train_sites\n",
    "])\n",
    "model_src = [f'../models/train_inputs_set_{n}.txt' for n in range(nfolds)]\n",
    "model_rel_dest = [f'../params/train_inputs_set_{n}.txt' for n in range(nfolds)]\n",
    "\n",
    "executable = '../ml_summa/bin/ml_summa'\n",
    "\n",
    "kfold_configs = []\n",
    "for n in range(nfolds) :\n",
    "    kfold_sites = kfold_train_sites[n]\n",
    "    config = {site: {'file_manager': f'../sites/{site}/file_manager.txt'} for site in kfold_sites}\n",
    "    \n",
    "    for s, c in config.items():\n",
    "        # set model in file manager\n",
    "        fman = ps.FileManager(c['file_manager'], name='')\n",
    "        fman.options.append(ps.file_manager.FileManagerOption('neuralNetFile', model_rel_dest[n]))\n",
    "        fman['outFilePrefix'] = f'nn_{n}_output'\n",
    "        \n",
    "        # save file manager\n",
    "        fman.write(path=str(fman.original_path).replace('file_manager', f'file_manager_{n}_NN'))\n",
    "        \n",
    "        # copy neural net file over to params\n",
    "        nn_dest = c['file_manager'].replace('file_manager.txt', model_rel_dest[n].replace('../', ''))\n",
    "        shutil.copy(model_src[n], nn_dest)\n",
    "        c['file_manager'] = f'../sites/{s}/file_manager_{n}_NN.txt'\n",
    "    kfold_configs.append(config)"
   ]
  },
  {
   "cell_type": "code",
   "execution_count": null,
   "metadata": {},
   "outputs": [],
   "source": [
    "def spinup(sim, name, run_option, period, niters, kwargs={}):\n",
    "    sim.initialize()\n",
    "    sim.apply_config(kwargs.get('config', {}))\n",
    "    sim.spinup(run_option, period=period, niters=niters, run_suffix=f'pysumma_spinup_{name}', **kwargs)\n",
    "    sim.process = None\n",
    "    return sim"
   ]
  },
  {
   "cell_type": "code",
   "execution_count": null,
   "metadata": {},
   "outputs": [],
   "source": [
    "all_summaries = []\n",
    "all_ens = []\n",
    "failed = []\n",
    "for i in range(nfolds):\n",
    "    print(i)\n",
    "    config = kfold_configs[i]\n",
    "    ens = ps.Ensemble(executable, config, num_workers=22)\n",
    "    ens.map(spinup, ('local', '365D', 10))\n",
    "    summary = ens.summary()\n",
    "    all_summaries.append(summary)\n",
    "    all_ens.append(ens)"
   ]
  },
  {
   "cell_type": "code",
   "execution_count": null,
   "metadata": {},
   "outputs": [],
   "source": [
    "failed = [s for ss in all_summaries for s in ss['error']]\n",
    "success = [s for ss in all_summaries for s in ss['success']]\n",
    "\n",
    "failed\n",
    "\n",
    "len(failed), len(success)"
   ]
  },
  {
   "cell_type": "code",
   "execution_count": null,
   "metadata": {},
   "outputs": [],
   "source": [
    "for s in sites:\n",
    "    orig_ic = f'../sites/{s}/params/initial_conditions.nc'\n",
    "    back_ic = f'../sites/{s}/params/coldstate_ml_flux.nc'\n",
    "    new_ic = f'../sites/{s}/params/ic_ml_flux.nc'\n",
    "    spin_ic = glob(f'../sites/{s}/params/*restart*.nc')[0]\n",
    "    shutil.copy2(orig_ic, back_ic)\n",
    "    shutil.copy2(spin_ic, orig_ic)"
   ]
  }
 ],
 "metadata": {
  "kernelspec": {
   "display_name": "all",
   "language": "python",
   "name": "all"
  },
  "language_info": {
   "codemirror_mode": {
    "name": "ipython",
    "version": 3
   },
   "file_extension": ".py",
   "mimetype": "text/x-python",
   "name": "python",
   "nbconvert_exporter": "python",
   "pygments_lexer": "ipython3",
   "version": "3.7.3"
  },
  "widgets": {
   "application/vnd.jupyter.widget-state+json": {
    "state": {},
    "version_major": 2,
    "version_minor": 0
   }
  }
 },
 "nbformat": 4,
 "nbformat_minor": 4
}
