{
 "cells": [
  {
   "cell_type": "code",
   "execution_count": null,
   "metadata": {},
   "outputs": [],
   "source": [
    "%pylab inline\n",
    "import os\n",
    "import shutil\n",
    "from glob import glob\n",
    "import pysumma as ps\n",
    "import xarray as xr\n",
    "import pandas as pd\n",
    "from pathlib import Path"
   ]
  },
  {
   "cell_type": "code",
   "execution_count": null,
   "metadata": {},
   "outputs": [],
   "source": [
    "sites = os.listdir('../sites/')\n",
    "bad_sites = []\n",
    "sim_sites = [s for s in sites if s not in bad_sites]\n",
    "\n",
    "seed = 50334\n",
    "np.random.seed(seed)\n",
    "np.random.shuffle(sim_sites)\n",
    "len(sim_sites)\n",
    "\n",
    "nfolds = 4\n",
    "kfold_test_sites = np.array(sim_sites).reshape(nfolds, -1)\n",
    "kfold_train_sites = np.vstack([\n",
    "    list(set(sim_sites) - set(train_sites)) for train_sites in kfold_test_sites\n",
    "])\n",
    "model_src = [f'../models/train_states_set_{n}.txt' for n in range(nfolds)]\n",
    "model_rel_dest = [f'../params/train_states_set_{n}.txt' for n in range(nfolds)]\n",
    "\n",
    "executable = '../state_ml_summa/bin/ml_summa'\n",
    "\n",
    "kfold_configs = []\n",
    "for n in range(nfolds) :\n",
    "    kfold_sites = kfold_test_sites[n]\n",
    "    config = {site: {'file_manager': f'../sites/{site}/file_manager.txt'} for site in kfold_sites}\n",
    "    \n",
    "    for s, c in config.items():\n",
    "        # set model in file manager\n",
    "        fman = ps.FileManager(c['file_manager'], name='')\n",
    "        fman.options.append(ps.file_manager.FileManagerOption('neuralNetFile', model_rel_dest[n]))\n",
    "        fman['outFilePrefix'] = f'state_nn_{n}_output'\n",
    "        \n",
    "        # save file manager\n",
    "        fman.write(path=str(fman.original_path).replace('file_manager', f'file_manager_{n}_state_NN'))\n",
    "        \n",
    "        # copy neural net file over to params\n",
    "        nn_dest = c['file_manager'].replace('file_manager.txt', model_rel_dest[n].replace('../', ''))\n",
    "        shutil.copy(model_src[n], nn_dest)\n",
    "        c['file_manager'] = f'../sites/{s}/file_manager_{n}_state_NN.txt'\n",
    "    kfold_configs.append(config)\n",
    "\n",
    "config = kfold_configs[0]\n",
    "for kfc in kfold_configs[1:]:\n",
    "    config.update(kfc)"
   ]
  },
  {
   "cell_type": "code",
   "execution_count": null,
   "metadata": {},
   "outputs": [],
   "source": [
    "ens = ps.Ensemble(executable, config, num_workers=31)\n",
    "ens.run('local')\n",
    "summary = ens.summary()"
   ]
  },
  {
   "cell_type": "code",
   "execution_count": null,
   "metadata": {},
   "outputs": [],
   "source": [
    "summary"
   ]
  },
  {
   "cell_type": "code",
   "execution_count": null,
   "metadata": {},
   "outputs": [],
   "source": [
    "all_outfiles = {k: config[k]['file_manager']\n",
    "                     .replace('file_manager_', f'output/state_nn_')\n",
    "                     .replace('_NN.txt', f'_output_{k}_timestep.nc') \n",
    "                for config in kfold_configs for k in config }"
   ]
  },
  {
   "cell_type": "code",
   "execution_count": null,
   "metadata": {},
   "outputs": [],
   "source": [
    "fig, axes = plt.subplots(8, 8, figsize=(18,12), sharex=True, sharey='row')\n",
    "axes = axes.flatten()\n",
    "\n",
    "for i, site in enumerate(kfold_train_sites[0]):\n",
    "    if i == len(axes): break\n",
    "    print(site)\n",
    "    try:\n",
    "        nn = xr.open_dataset(all_outfiles[site])\n",
    "        sim = xr.open_dataset(f'../sites/{site}/output/template_output_{site}_timestep.nc')\n",
    "        obs = xr.open_dataset(f'../sites/{site}/forcings/{site}.nc')\n",
    "    except:\n",
    "        continue\n",
    "    qle_nn = -nn['scalarLatHeatTotal'].load()\n",
    "    qle_sim = -sim['scalarLatHeatTotal'].load()\n",
    "    qle_obs = obs['Qle'].load()\n",
    "    \n",
    "    if 'Qle_cor' in obs:\n",
    "        qle_corr = obs['Qle_cor']\n",
    "        qle_corr.groupby(obs.time.dt.month).mean(dim='time').plot(ax=axes[i], color='black', linewidth=2, label='Observed')\n",
    "    \n",
    "    qle_nn.groupby(nn.time.dt.month).mean(dim='time').plot(ax=axes[i], color='royalblue', label='Neural Net')\n",
    "    qle_sim.groupby(sim.time.dt.month).mean(dim='time').plot(ax=axes[i], color='crimson', label='SUMMA')\n",
    "    axes[i].set_ylabel('')\n",
    "    axes[i].set_xlabel('')\n",
    "    axes[i].set_title(site)\n",
    "    sim.close()\n",
    "    obs.close()\n",
    "    \n",
    "fig.text(0.5, -0.02, r'Month', ha='center', )\n",
    "fig.text(-0.02, 0.5, r'Latent heat $(W/m^2)$', va='center', rotation='vertical', )\n",
    "plt.tight_layout(pad=0.1)\n",
    "axes[-1].legend()"
   ]
  },
  {
   "cell_type": "code",
   "execution_count": null,
   "metadata": {},
   "outputs": [],
   "source": [
    "fig, axes = plt.subplots(8, 8, figsize=(18,12), sharex=True, sharey='row')\n",
    "axes = axes.flatten()\n",
    "\n",
    "for i, site in enumerate(kfold_train_sites[0]):\n",
    "    if i == len(axes): break\n",
    "    print(site)\n",
    "    try:\n",
    "        nn = xr.open_dataset(f'../sites/{site}/output/nn_0_output_{site}_timestep.nc')\n",
    "        sim = xr.open_dataset(f'../sites/{site}/output/template_output_{site}_timestep.nc')\n",
    "        obs = xr.open_dataset(f'../sites/{site}/forcings/{site}.nc')\n",
    "    except:\n",
    "        continue\n",
    "    qle_nn = -nn['scalarSenHeatTotal'].load()\n",
    "    qle_sim = -sim['scalarSenHeatTotal'].load()\n",
    "    qle_obs = obs['Qh'].load()\n",
    "    \n",
    "    \n",
    "    if 'Qh_cor' in obs:\n",
    "        qle_corr = obs['Qh_cor']\n",
    "        qle_corr.groupby(obs.time.dt.month).mean(dim='time').plot(ax=axes[i], color='black', linewidth=2, label='Observed')\n",
    "    \n",
    "    qle_nn.groupby(nn.time.dt.month).mean(dim='time').plot(ax=axes[i], color='royalblue', label='Neural Net')\n",
    "    qle_sim.groupby(sim.time.dt.month).mean(dim='time').plot(ax=axes[i], color='crimson', label='SUMMA')\n",
    "    axes[i].set_ylabel('')\n",
    "    axes[i].set_xlabel('')\n",
    "    axes[i].set_title(site)\n",
    "    sim.close()\n",
    "    obs.close()\n",
    "    \n",
    "fig.text(0.5, -0.02, r'Month', ha='center', )\n",
    "fig.text(-0.02, 0.5, r'Sensible heat $(W/m^2)$', va='center', rotation='vertical', )\n",
    "plt.tight_layout(pad=0.1)\n",
    "axes[-1].legend()"
   ]
  },
  {
   "cell_type": "code",
   "execution_count": null,
   "metadata": {},
   "outputs": [],
   "source": [
    "sim['scalarCanopyWat'].sel(time=slice('2000','2004')).plot()"
   ]
  },
  {
   "cell_type": "code",
   "execution_count": null,
   "metadata": {},
   "outputs": [],
   "source": [
    "#obs['Qle_cor'].sel(time='2004').plot()\n",
    "(100 * (obs['SWRadAtm'] ** (1./3))).sel(time='2004').plot()\n",
    "sim['scalarLatHeatGround'].sel(time='2004').plot()"
   ]
  },
  {
   "cell_type": "code",
   "execution_count": null,
   "metadata": {},
   "outputs": [],
   "source": [
    "print()"
   ]
  },
  {
   "cell_type": "code",
   "execution_count": null,
   "metadata": {},
   "outputs": [],
   "source": [
    "fig, axes = plt.subplots(8, 7, figsize=(40,25), sharex=True, sharey=True)\n",
    "axes = axes.flatten()\n",
    "\n",
    "for i, site in enumerate(sites):\n",
    "    sim = xr.open_dataset(f'./sites/{site}/output/template_output_{site}_timestep.nc')\n",
    "    obs = xr.open_dataset(f'./sites/{site}/forcings/{site}.nc')\n",
    "    \n",
    "    \n",
    "    qh_sim = -sim['scalarLatHeatTotal'].load()\n",
    "    qh_obs = obs['Qle'].load()\n",
    "    \n",
    "    if 'Qle_cor' in obs:\n",
    "        qh_corr = obs['Qle_cor']\n",
    "        qh_corr.groupby(obs.time.dt.hour).quantile(dim='time', q=0.5).plot(ax=axes[i], color='tomato', linewidth=2, label='Corrected')\n",
    "    \n",
    "    qh_obs.groupby(obs.time.dt.hour).quantile(dim='time', q=0.5).plot(ax=axes[i], color='black', linewidth=2, label='Observed')\n",
    "    qh_sim.groupby(sim.time.dt.hour).quantile(dim='time', q=0.5).plot(ax=axes[i], color='slateblue', label='Simulated')\n",
    "    axes[i].set_ylabel('')\n",
    "    axes[i].set_xlabel('')\n",
    "    axes[i].set_title(site)\n",
    "    \n",
    "    \n",
    "plt.suptitle('Latent Heat Fluxes')\n",
    "axes[0].legend()"
   ]
  },
  {
   "cell_type": "code",
   "execution_count": null,
   "metadata": {},
   "outputs": [],
   "source": [
    "site = 'FR-LBr'\n",
    "sim = xr.open_dataset(f'./sites/{site}/output/template_output_output_{site}_timestep.nc')\n",
    "obs = xr.open_dataset(f'./sites/{site}/forcings/{site}.nc')"
   ]
  },
  {
   "cell_type": "code",
   "execution_count": null,
   "metadata": {},
   "outputs": [],
   "source": [
    "doy = sim['scalarLatHeatTotal'].resample(time='1D').mean()\n",
    "doy = doy.groupby(doy.time.dt.year).apply(lambda x: x)"
   ]
  },
  {
   "cell_type": "code",
   "execution_count": null,
   "metadata": {},
   "outputs": [],
   "source": [
    "for year in sorted(np.unique(doy.time))[1:-1]:\n",
    "    plt.plot((-doy.sel(year=year).values), color='blue', alpha=0.5)"
   ]
  },
  {
   "cell_type": "code",
   "execution_count": null,
   "metadata": {},
   "outputs": [],
   "source": [
    "(-doy).plot()"
   ]
  },
  {
   "cell_type": "code",
   "execution_count": null,
   "metadata": {},
   "outputs": [],
   "source": []
  }
 ],
 "metadata": {
  "kernelspec": {
   "display_name": "all",
   "language": "python",
   "name": "all"
  },
  "language_info": {
   "codemirror_mode": {
    "name": "ipython",
    "version": 3
   },
   "file_extension": ".py",
   "mimetype": "text/x-python",
   "name": "python",
   "nbconvert_exporter": "python",
   "pygments_lexer": "ipython3",
   "version": "3.7.3"
  },
  "widgets": {
   "application/vnd.jupyter.widget-state+json": {
    "state": {},
    "version_major": 2,
    "version_minor": 0
   }
  }
 },
 "nbformat": 4,
 "nbformat_minor": 4
}
