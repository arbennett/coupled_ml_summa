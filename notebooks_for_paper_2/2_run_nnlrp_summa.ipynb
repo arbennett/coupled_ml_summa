{
 "cells": [
  {
   "cell_type": "code",
   "execution_count": null,
   "metadata": {},
   "outputs": [],
   "source": [
    "%pylab inline\n",
    "import os\n",
    "import shutil\n",
    "from glob import glob\n",
    "import pysumma as ps\n",
    "import xarray as xr\n",
    "import pandas as pd\n",
    "from pathlib import Path"
   ]
  },
  {
   "cell_type": "code",
   "execution_count": null,
   "metadata": {},
   "outputs": [],
   "source": [
    "veg_igbp = pd.read_csv('./VEGPARM_IGBP_MODIS_NOAH.TBL', \n",
    "                       index_col=-1, skipinitialspace=True)\n",
    "veg_igbp.index = veg_igbp.index.map(lambda x: x.strip().replace(\"'\", \"\"))\n",
    "\n",
    "soil_rosetta = pd.read_csv('./SOILPARM_ROSETTA.TBL', \n",
    "                           index_col=-1, skipinitialspace=True)\n",
    "soil_rosetta.index = soil_rosetta.index.map(lambda x: x.strip().replace(\"'\", \"\"))"
   ]
  },
  {
   "cell_type": "code",
   "execution_count": null,
   "metadata": {},
   "outputs": [],
   "source": [
    "sim_sites = os.listdir('../sites/')\n",
    "\n",
    "model_src = f'../new_models/all_var_dense_dropout.txt'\n",
    "model_rel_dest = f'../params/all_var_dense_dropout.txt'\n",
    "executable = '../lrp_ml_summa/bin/lrp_summa'\n",
    "\n",
    "config = {site: {'file_manager': f'../sites/{site}/file_manager.txt'} for site in sim_sites}\n",
    "\n",
    "for s, c in config.items():\n",
    "    # set model in file manager\n",
    "    fman = ps.FileManager(c['file_manager'], name='')\n",
    "    fman.options.append(ps.file_manager.FileManagerOption('neuralNetFile', model_rel_dest))\n",
    "    fman['outFilePrefix'] = f'lrp_nn_output'\n",
    "    \n",
    "    # Create a new initial conditions\n",
    "    fman['initConditionFile'] = f'../params/state_initial_conditions.nc'\n",
    "    \n",
    "    # save file manager\n",
    "    fman.write(path=Path(str(fman.original_path).replace('file_manager', f'file_manager_lrp')))\n",
    "    \n",
    "    # copy neural net file over to params\n",
    "    nn_dest = c['file_manager'].replace('file_manager.txt', model_rel_dest.replace('../', ''))\n",
    "    shutil.copy(model_src, nn_dest)\n",
    "    c['file_manager'] = f'../sites/{s}/file_manager_lrp.txt'"
   ]
  },
  {
   "cell_type": "code",
   "execution_count": null,
   "metadata": {},
   "outputs": [],
   "source": [
    "ens = ps.Ensemble(executable, config, num_workers=31)\n",
    "ens.run('local')\n",
    "summary = ens.summary()"
   ]
  },
  {
   "cell_type": "code",
   "execution_count": null,
   "metadata": {},
   "outputs": [],
   "source": [
    "summary = ens.summary()"
   ]
  },
  {
   "cell_type": "code",
   "execution_count": null,
   "metadata": {},
   "outputs": [],
   "source": [
    "failed = summary['error']\n",
    "success = summary['success']\n",
    "\n",
    "len(failed), len(success)"
   ]
  },
  {
   "cell_type": "code",
   "execution_count": null,
   "metadata": {},
   "outputs": [],
   "source": [
    "ens.rerun_failed('local')"
   ]
  },
  {
   "cell_type": "code",
   "execution_count": null,
   "metadata": {},
   "outputs": [],
   "source": [
    "ens.summary()['error']"
   ]
  },
  {
   "cell_type": "code",
   "execution_count": null,
   "metadata": {},
   "outputs": [],
   "source": []
  }
 ],
 "metadata": {
  "kernelspec": {
   "display_name": "all",
   "language": "python",
   "name": "all"
  },
  "language_info": {
   "codemirror_mode": {
    "name": "ipython",
    "version": 3
   },
   "file_extension": ".py",
   "mimetype": "text/x-python",
   "name": "python",
   "nbconvert_exporter": "python",
   "pygments_lexer": "ipython3",
   "version": "3.7.3"
  },
  "widgets": {
   "application/vnd.jupyter.widget-state+json": {
    "state": {},
    "version_major": 2,
    "version_minor": 0
   }
  }
 },
 "nbformat": 4,
 "nbformat_minor": 4
}
