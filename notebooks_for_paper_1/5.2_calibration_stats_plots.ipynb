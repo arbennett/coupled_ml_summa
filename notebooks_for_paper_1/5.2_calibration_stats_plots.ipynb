{
 "cells": [
  {
   "cell_type": "code",
   "execution_count": null,
   "metadata": {},
   "outputs": [],
   "source": [
    "%pylab inline\n",
    "%load_ext autoreload\n",
    "%autoreload 2\n",
    "%reload_ext autoreload\n",
    "import os\n",
    "import shutil\n",
    "from glob import glob\n",
    "import pysumma as ps\n",
    "import pysumma.evaluation as pse\n",
    "import pysumma.plotting as psp\n",
    "from tqdm import tqdm_notebook as tqdm\n",
    "import xarray as xr\n",
    "import pandas as pd\n",
    "from pathlib import Path\n",
    "import seaborn as sns\n",
    "import warnings\n",
    "warnings.simplefilter(action='ignore', category=FutureWarning)\n",
    "warnings.simplefilter(action='ignore', category=RuntimeWarning)\n",
    "\n",
    "sns.set_context('talk')\n",
    "mpl.style.use('seaborn-bright')\n",
    "mpl.rcParams['figure.figsize'] = (10, 8)\n",
    "from matplotlib.colors import LinearSegmentedColormap\n",
    "colors = ['#e6194B', '#3cb44b', '#ffe119', '#4363d8', '#f58231', \n",
    "          '#42d4f4', '#f032e6', '#fabebe', '#469990', '#e6beff']\n",
    "\n",
    "colors = ['#e6194b', '#3cb44b', '#ffe119', \n",
    "          '#4363d8', '#f58231', '#911eb4', \n",
    "          '#46f0f0', '#f032e6', '#bcf60c', \n",
    "          '#fabebe', '#008080', '#e6beff', ]\n",
    "          #'#9a6324', '#fffac8', '#800000', \n",
    "          #'#aaffc3', '#808000', '#ffd8b1', \n",
    "          #'#000075', '#808080', '#ffffff', '#000000']\n",
    "cm = LinearSegmentedColormap.from_list('veg', colors, N=len(colors))"
   ]
  },
  {
   "cell_type": "code",
   "execution_count": null,
   "metadata": {},
   "outputs": [],
   "source": [
    "logs = glob('../sites/*/calibration/metrics_log.csv', recursive=True)\n",
    "dfs = []\n",
    "for l in logs:\n",
    "    tdf = pd.read_csv(l, names=['KGE', 'MAE', 'MSE', 'RMSE', 'NSE'])\n",
    "    if len(tdf) >= 1031:\n",
    "        dfs.append(tdf[50:])\n",
    "    elif len(tdf) >= 1000:\n",
    "        dfs.append(tdf[:])"
   ]
  },
  {
   "cell_type": "code",
   "execution_count": null,
   "metadata": {},
   "outputs": [],
   "source": [
    "for df in dfs:\n",
    "    df[df==999999.0] = np.nan\n",
    "    nmse = df['MSE'][0:500].rolling(5).min() #.plot()\n",
    "    nmse = (nmse - df['MSE'][0:500].min()) / (df['MSE'][0:500].max() - df['MSE'][0:500].min())\n",
    "    #nmse.plot(color='grey', alpha=0.2)\n",
    "    plt.plot(nmse.values, color='grey', alpha=0.2)\n",
    "plt.xlabel('Calibration iteration')\n",
    "plt.ylabel('Normalized MSE over calibration period')"
   ]
  },
  {
   "cell_type": "code",
   "execution_count": null,
   "metadata": {},
   "outputs": [],
   "source": [
    "for df in dfs:\n",
    "    df[df==999999.0] = np.nan\n",
    "    nmse = df['MSE'][-500:].rolling(5).min() #.plot()\n",
    "    nmse = (nmse - df['MSE'][-500:].min()) / (df['MSE'][-500:].max() - df['MSE'][-500:].min())\n",
    "    #nmse.plot(color='grey', alpha=0.2)\n",
    "    plt.plot(nmse.values, color='grey', alpha=0.2)\n",
    "plt.xlabel('Calibration iteration')\n",
    "plt.ylabel('Normalized MSE over calibration period')"
   ]
  },
  {
   "cell_type": "code",
   "execution_count": null,
   "metadata": {},
   "outputs": [],
   "source": []
  }
 ],
 "metadata": {
  "kernelspec": {
   "display_name": "all",
   "language": "python",
   "name": "all"
  },
  "language_info": {
   "codemirror_mode": {
    "name": "ipython",
    "version": 3
   },
   "file_extension": ".py",
   "mimetype": "text/x-python",
   "name": "python",
   "nbconvert_exporter": "python",
   "pygments_lexer": "ipython3",
   "version": "3.7.3"
  },
  "widgets": {
   "application/vnd.jupyter.widget-state+json": {
    "state": {},
    "version_major": 2,
    "version_minor": 0
   }
  }
 },
 "nbformat": 4,
 "nbformat_minor": 4
}
