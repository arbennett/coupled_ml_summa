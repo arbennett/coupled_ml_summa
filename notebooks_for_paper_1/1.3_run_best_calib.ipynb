{
 "cells": [
  {
   "cell_type": "code",
   "execution_count": null,
   "metadata": {},
   "outputs": [],
   "source": [
    "%pylab inline\n",
    "%load_ext autoreload\n",
    "%autoreload 2\n",
    "%reload_ext autoreload\n",
    "import os\n",
    "#import pysumma as ps\n",
    "import xarray as xr\n",
    "import pandas as pd\n",
    "from pathlib import Path\n",
    "from joblib import Parallel, delayed\n",
    "import pysumma as ps\n",
    "import pandas as pd\n",
    "from tqdm.notebook import tqdm\n",
    "import seaborn as sns\n",
    "\n",
    "sns.set_context('talk')\n",
    "mpl.style.use('seaborn-bright')\n",
    "mpl.rcParams['figure.figsize'] = (18, 12)\n",
    "\n",
    "veg_igbp = pd.read_csv('./VEGPARM_IGBP_MODIS_NOAH.TBL', \n",
    "                       index_col=-1, skipinitialspace=True)\n",
    "veg_igbp.index = veg_igbp.index.map(lambda x: x.strip().replace(\"'\", \"\"))\n",
    "\n",
    "soil_rosetta = pd.read_csv('./SOILPARM_ROSETTA.TBL', \n",
    "                           index_col=-1, skipinitialspace=True)\n",
    "soil_rosetta.index = soil_rosetta.index.map(lambda x: x.strip().replace(\"'\", \"\"))\n",
    "\n",
    "from glob import glob\n",
    "import shutil\n",
    "sites = os.listdir('../sites')\n",
    "\n",
    "config = {site: {'file_manager': f'../sites/{site}/file_manager.txt'} for site in sites}\n",
    "print(len(config))\n",
    "\n",
    "summa_exe = '/pool0/data/andrbenn/ml_summa/summa/bin/summa.exe'\n",
    "NPROCS = 4"
   ]
  },
  {
   "cell_type": "code",
   "execution_count": null,
   "metadata": {},
   "outputs": [],
   "source": [
    "calib_ens = ps.Ensemble(summa_exe, config, num_workers=NPROCS)"
   ]
  },
  {
   "cell_type": "code",
   "execution_count": null,
   "metadata": {},
   "outputs": [],
   "source": [
    "calib_ens.run('local')"
   ]
  },
  {
   "cell_type": "code",
   "execution_count": null,
   "metadata": {},
   "outputs": [],
   "source": [
    "summary = calib_ens.summary()\n",
    "print(summary['error'])"
   ]
  },
  {
   "cell_type": "code",
   "execution_count": null,
   "metadata": {},
   "outputs": [],
   "source": []
  }
 ],
 "metadata": {
  "kernelspec": {
   "display_name": "all",
   "language": "python",
   "name": "all"
  },
  "language_info": {
   "codemirror_mode": {
    "name": "ipython",
    "version": 3
   },
   "file_extension": ".py",
   "mimetype": "text/x-python",
   "name": "python",
   "nbconvert_exporter": "python",
   "pygments_lexer": "ipython3",
   "version": "3.7.3"
  },
  "widgets": {
   "application/vnd.jupyter.widget-state+json": {
    "state": {},
    "version_major": 2,
    "version_minor": 0
   }
  }
 },
 "nbformat": 4,
 "nbformat_minor": 4
}
