{
 "cells": [
  {
   "cell_type": "code",
   "execution_count": null,
   "metadata": {},
   "outputs": [],
   "source": [
    "%pylab inline\n",
    "%load_ext autoreload\n",
    "%autoreload 2\n",
    "%reload_ext autoreload\n",
    "import os\n",
    "import shutil\n",
    "from glob import glob\n",
    "import pysumma as ps\n",
    "import xarray as xr\n",
    "import pandas as pd\n",
    "from pathlib import Path"
   ]
  },
  {
   "cell_type": "code",
   "execution_count": null,
   "metadata": {},
   "outputs": [],
   "source": [
    "sites = os.listdir('../sites/')\n",
    "bad_sites = []\n",
    "sim_sites = [s for s in sites if s not in bad_sites]"
   ]
  },
  {
   "cell_type": "code",
   "execution_count": null,
   "metadata": {},
   "outputs": [],
   "source": [
    "flux_restart_files = [sorted(glob(f'../sites/{s}/output/flux_nn_output_restart*'))[-1] for s in sites]\n",
    "flux_ic_files = [f'../sites/{s}/params/flux_initial_conditions.nc' for s in sites]\n",
    "\n",
    "for rs, ic in zip(flux_restart_files, flux_ic_files):\n",
    "    shutil.copyfile(rs, ic)"
   ]
  },
  {
   "cell_type": "code",
   "execution_count": null,
   "metadata": {},
   "outputs": [],
   "source": [
    "state_restart_files = [sorted(glob(f'../sites/{s}/output/state_nn_output_restart*'))[-1] for s in sites]\n",
    "state_ic_files = [f'../sites/{s}/params/state_initial_conditions.nc' for s in sites]\n",
    "\n",
    "for rs, ic in zip(state_restart_files, state_ic_files):\n",
    "    shutil.copyfile(rs, ic)"
   ]
  },
  {
   "cell_type": "code",
   "execution_count": null,
   "metadata": {},
   "outputs": [],
   "source": [
    "flux_restart_files"
   ]
  },
  {
   "cell_type": "code",
   "execution_count": null,
   "metadata": {},
   "outputs": [],
   "source": [
    "seed = 50334\n",
    "np.random.seed(seed)\n",
    "np.random.shuffle(sim_sites)\n",
    "len(sim_sites)\n",
    "\n",
    "nfolds = 4\n",
    "kfold_test_sites = np.array(sim_sites).reshape(nfolds, -1)\n",
    "kfold_train_sites = np.vstack([\n",
    "    list(set(sim_sites) - set(train_sites)) for train_sites in kfold_test_sites\n",
    "])\n",
    "#kfold_train_sites = np.vstack([\n",
    "#    list(set(sim_sites) - set(train_sites)) for train_sites in kfold_train_sites\n",
    "#])\n",
    "model_src = [f'../models/train_states_set_{n}.txt' for n in range(nfolds)]\n",
    "model_rel_dest = [f'../params/train_states_set_{n}.txt' for n in range(nfolds)]\n",
    "\n",
    "executable = '../state_ml_summa/bin/ml_summa'\n",
    "\n",
    "kfold_configs = []\n",
    "for n in range(nfolds) :\n",
    "    kfold_sites = kfold_test_sites[n]\n",
    "    config = {site: {'file_manager': f'../sites/{site}/file_manager.txt'} for site in kfold_sites}\n",
    "    \n",
    "    for s, c in config.items():\n",
    "        # set model in file manager\n",
    "        fman = ps.FileManager(c['file_manager'], name='')\n",
    "        fman.options.append(ps.file_manager.FileManagerOption('neuralNetFile', model_rel_dest[n]))\n",
    "        fman['outFilePrefix'] = f'state_nn_{n}_output'\n",
    "        \n",
    "        # save file manager\n",
    "        fman.write(path=str(fman.original_path).replace('file_manager', f'file_manager_{n}_state_NN'))\n",
    "        \n",
    "        # copy neural net file over to params\n",
    "        nn_dest = c['file_manager'].replace('file_manager.txt', model_rel_dest[n].replace('../', ''))\n",
    "        shutil.copy(model_src[n], nn_dest)\n",
    "        c['file_manager'] = f'../sites/{s}/file_manager_{n}_state_NN.txt'\n",
    "    kfold_configs.append(config)\n",
    "    \n",
    "config = kfold_configs[0]\n",
    "for kfc in kfold_configs[1:]:\n",
    "    config.update(kfc)"
   ]
  },
  {
   "cell_type": "code",
   "execution_count": null,
   "metadata": {},
   "outputs": [],
   "source": [
    "def spinup(sim, name, run_option, period, niters, kwargs={}):\n",
    "    sim.initialize()\n",
    "    sim.apply_config(kwargs.get('config', {}))\n",
    "    sim.spinup(run_option, period=period, niters=niters, run_suffix=f'pysumma_spinup_{name}', **kwargs)\n",
    "    sim.process = None\n",
    "    return sim"
   ]
  },
  {
   "cell_type": "code",
   "execution_count": null,
   "metadata": {},
   "outputs": [],
   "source": [
    "site = 'US-Var'"
   ]
  },
  {
   "cell_type": "code",
   "execution_count": null,
   "metadata": {},
   "outputs": [],
   "source": [
    "config[site]"
   ]
  },
  {
   "cell_type": "code",
   "execution_count": null,
   "metadata": {},
   "outputs": [],
   "source": [
    "orig_sim = ps.Simulation(executable, config[site]['file_manager'])\n",
    "orig_sim.run('local')\n",
    "print(orig_sim.status)\n",
    "pre_spinup = orig_sim.output.load().copy()\n",
    "orig_sim.output.close()"
   ]
  },
  {
   "cell_type": "code",
   "execution_count": null,
   "metadata": {},
   "outputs": [],
   "source": [
    "spin = ps.Simulation(executable, config[site]['file_manager'])\n",
    "spin.spinup('local', '365D', niters=10)\n",
    "ic = spin.initial_conditions.load()"
   ]
  },
  {
   "cell_type": "code",
   "execution_count": null,
   "metadata": {},
   "outputs": [],
   "source": [
    "new_sim = ps.Simulation(executable, config[site]['file_manager'])\n",
    "new_sim.initial_conditions = ic\n",
    "new_sim.run('local', suffix='post_spinup_nn2w')\n",
    "print(new_sim.status)\n",
    "post_spinup = new_sim.output.load().copy()\n",
    "new_sim.output.close()"
   ]
  },
  {
   "cell_type": "code",
   "execution_count": null,
   "metadata": {},
   "outputs": [],
   "source": [
    "(post_spinup['scalarLatHeatTotal'] -  pre_spinup['scalarLatHeatTotal']).plot()"
   ]
  },
  {
   "cell_type": "code",
   "execution_count": null,
   "metadata": {},
   "outputs": [],
   "source": [
    "post_spinup['scalarLatHeatTotal'].plot()\n",
    "pre_spinup['scalarLatHeatTotal'].plot()"
   ]
  },
  {
   "cell_type": "code",
   "execution_count": null,
   "metadata": {},
   "outputs": [],
   "source": [
    "post_spinup['scalarSurfaceTemp'].plot()\n",
    "pre_spinup['scalarSurfaceTemp'].plot()"
   ]
  },
  {
   "cell_type": "code",
   "execution_count": null,
   "metadata": {},
   "outputs": [],
   "source": [
    "(post_spinup['scalarSurfaceTemp'] -  pre_spinup['scalarSurfaceTemp']).plot()"
   ]
  },
  {
   "cell_type": "code",
   "execution_count": null,
   "metadata": {},
   "outputs": [],
   "source": [
    "post_spinup['scalarLatHeatTotal'].groupby(post_spinup.time.dt.week).mean().plot()\n",
    "pre_spinup['scalarLatHeatTotal'].groupby(post_spinup.time.dt.week).mean().plot()"
   ]
  },
  {
   "cell_type": "code",
   "execution_count": null,
   "metadata": {},
   "outputs": [],
   "source": []
  }
 ],
 "metadata": {
  "kernelspec": {
   "display_name": "all",
   "language": "python",
   "name": "all"
  },
  "language_info": {
   "codemirror_mode": {
    "name": "ipython",
    "version": 3
   },
   "file_extension": ".py",
   "mimetype": "text/x-python",
   "name": "python",
   "nbconvert_exporter": "python",
   "pygments_lexer": "ipython3",
   "version": "3.7.3"
  },
  "widgets": {
   "application/vnd.jupyter.widget-state+json": {
    "state": {},
    "version_major": 2,
    "version_minor": 0
   }
  }
 },
 "nbformat": 4,
 "nbformat_minor": 4
}
