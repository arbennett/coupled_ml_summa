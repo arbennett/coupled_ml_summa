{
 "cells": [
  {
   "cell_type": "code",
   "execution_count": null,
   "metadata": {},
   "outputs": [],
   "source": [
    "%pylab inline\n",
    "%load_ext autoreload\n",
    "%autoreload 2\n",
    "%reload_ext autoreload\n",
    "import os\n",
    "#import pysumma as ps\n",
    "import xarray as xr\n",
    "import pandas as pd\n",
    "from pathlib import Path\n",
    "from joblib import Parallel, delayed\n",
    "import pysumma as ps\n",
    "import pandas as pd\n",
    "from tqdm.notebook import tqdm\n",
    "import seaborn as sns\n",
    "from glob import glob\n",
    "import shutil\n",
    "\n",
    "sns.set_context('talk')\n",
    "mpl.style.use('seaborn-bright')\n",
    "mpl.rcParams['figure.figsize'] = (18, 12)\n",
    "\n",
    "veg_igbp = pd.read_csv('./VEGPARM_IGBP_MODIS_NOAH.TBL', \n",
    "                       index_col=-1, skipinitialspace=True)\n",
    "veg_igbp.index = veg_igbp.index.map(lambda x: x.strip().replace(\"'\", \"\"))\n",
    "\n",
    "soil_rosetta = pd.read_csv('./SOILPARM_ROSETTA.TBL', \n",
    "                           index_col=-1, skipinitialspace=True)\n",
    "soil_rosetta.index = soil_rosetta.index.map(lambda x: x.strip().replace(\"'\", \"\"))"
   ]
  },
  {
   "cell_type": "code",
   "execution_count": null,
   "metadata": {},
   "outputs": [],
   "source": []
  },
  {
   "cell_type": "code",
   "execution_count": null,
   "metadata": {},
   "outputs": [],
   "source": [
    "max_iter = 500\n",
    "\n",
    "def run_site_calib(site, max_iter=max_iter):\n",
    "    summa_exe = '/pool0/data/andrbenn/ml_summa/summa/bin/summa.exe'\n",
    "    ostrich_exe = '/pool0/home/andrbenn/data/naoki_calib_example/ostrich.exe'\n",
    "    python_exe = '/pool0/data/andrbenn/.conda/all/bin/python'\n",
    "    ostrich = ps.Ostrich(ostrich_exe, summa_exe, f'../sites/{site}/file_manager.txt', python_path=python_exe)\n",
    "    \n",
    "    ostrich.max_iters = max_iter\n",
    "    ostrich.allow_failures = True\n",
    "    ostrich.perturb_val = 0.2\n",
    "    attr = ostrich.simulation.local_attributes\n",
    "    veg_igbp = pd.read_csv('./VEGPARM_IGBP_MODIS_NOAH.TBL', \n",
    "                       index_col=-1, skipinitialspace=True)\n",
    "    veg_igbp.index = veg_igbp.index.map(lambda x: x.strip().replace(\"'\", \"\"))\n",
    "    \n",
    "    soil_rosetta = pd.read_csv('./SOILPARM_ROSETTA.TBL', \n",
    "                               index_col=-1, skipinitialspace=True)\n",
    "    soil_rosetta.index = soil_rosetta.index.map(lambda x: x.strip().replace(\"'\", \"\"))\n",
    "    soil_params = soil_rosetta[soil_rosetta['SOILTYPINDEX'] == attr['soilTypeIndex'].values[0]]\n",
    "    veg_params = veg_igbp[veg_igbp['VEGTYPINDEX'] == attr['vegTypeIndex'].values[0]]\n",
    "    \n",
    "    # Source: Zeng 2001 AMS\n",
    "    igbp_rooting_depths = {1: 1.8,  2: 3.0,  3: 2.0,   4: 2.0,  5: 2.4,  6: 2.5,  7: 3.10,  8: 1.7,\n",
    "                           9: 2.4, 10: 1.5, 11: 0.02, 12: 1.5, 13: 1.5, 14: 1.5, 15: 0.01, 16: 4.0}\n",
    "    \n",
    "    initial_values = {\n",
    "        'rootingDepth': igbp_rooting_depths[attr['vegTypeIndex'].values[0]],\n",
    "        'theta_res': soil_params['theta_res'].values[0],\n",
    "        'theta_sat': soil_params['theta_sat'].values[0],\n",
    "    }\n",
    "    \n",
    "    param_ranges = {\n",
    "        'rootingDepth': initial_values['rootingDepth'] * np.array([0.5, 1.5]),\n",
    "    }\n",
    "    \n",
    "    ostrich.obs_data_file = f'/pool0/data/andrbenn/ml_summa/sites/{site}/forcings/{site}.nc'\n",
    "    ostrich.sim_calib_vars = ['scalarLatHeatTotal', 'scalarSenHeatTotal']\n",
    "    ostrich.obs_calib_vars = ['Qle_cor', 'Qh_cor']\n",
    "    ostrich.import_strings = 'import numpy as np'\n",
    "    ostrich.conversion_function = lambda x: -x\n",
    "    ostrich.filter_function = lambda x,y : (\n",
    "            x.isel(hru=0, gru=0, time=np.argwhere(~y['gap_filled'].isel(hru=0, drop=True).astype(bool).values).flatten()).isel(time=slice(48, None)),\n",
    "            y.isel(hru=0, time=np.argwhere(~y['gap_filled'].isel(hru=0, drop=True).astype(bool).values).flatten()).isel(time=slice(48, None))\n",
    "        )\n",
    "    ostrich.cost_function = 'MSE'\n",
    "    ostrich.maximize = False\n",
    "    \n",
    "    ostrich.calib_params = [\n",
    "        ps.OstrichParam('vcmax_Kn', 0.6, (0.1, 1.2)),\n",
    "        ps.OstrichParam('laiScaleParam', 1.0, (0.5, 3.0)),\n",
    "        ps.OstrichParam('rootingDepth', initial_values['rootingDepth'], param_ranges['rootingDepth']),\n",
    "        ps.OstrichParam('canopyWettingFactor', 0.7, (0.01, 0.9)),\n",
    "        ps.OstrichParam('kAnisotropic', 1.0, (0.5, 5.0)),\n",
    "        ps.OstrichParam('theta_res', initial_values['theta_res'],   (0.001,  0.2)),\n",
    "        ps.OstrichParam('theta_sat', initial_values['theta_sat'],   (0.31,   0.7)),\n",
    "    ]\n",
    "    ostrich.add_tied_param('fieldCapacity', lower_bound='theta_res', upper_bound='theta_sat')\n",
    "    ostrich.add_tied_param('critSoilTranspire', lower_bound='theta_res', upper_bound='theta_sat')\n",
    "    ostrich.add_tied_param('critSoilWilting', lower_bound='theta_res', upper_bound='critSoilTranspire')\n",
    "    \n",
    "    start = pd.to_datetime(ostrich.simulation.manager['simStartTime'].value) \n",
    "    stop = pd.to_datetime(ostrich.simulation.manager['simEndTime'].value)\n",
    "    ostrich.simulation.manager['simEndTime'] = str(start + pd.Timedelta('366D'))\n",
    "    \n",
    "    ostrich.write_config()\n",
    "    ostrich.run(monitor=False)\n",
    "    return ostrich"
   ]
  },
  {
   "cell_type": "code",
   "execution_count": null,
   "metadata": {},
   "outputs": [],
   "source": [
    "sites = os.listdir('../sites')\n",
    "\n",
    "bad_sites = []\n",
    "sites = [site for site in sites if site not in bad_sites]\n",
    "config = {site: {'file_manager': f'../sites/{site}/file_manager.txt'} for site in sites if site not in bad_sites}\n",
    "print(len(config))\n",
    "\n",
    "summa_exe = '/pool0/data/andrbenn/ml_summa/summa/bin/summa.exe'\n",
    "ostrich_exe = '/pool0/home/andrbenn/data/naoki_calib_example/ostrich.exe'\n",
    "python_exe = '/pool0/data/andrbenn/.conda/all/bin/python'"
   ]
  },
  {
   "cell_type": "code",
   "execution_count": null,
   "metadata": {},
   "outputs": [],
   "source": [
    "calibrating = []\n",
    "calibrated = []\n",
    "n_workers = 4\n",
    "for site in tqdm(sites):\n",
    "    calibrating.append(run_site_calib(site))\n",
    "    if len(calibrating) == n_workers:\n",
    "        current = calibrating.pop(0)\n",
    "        current.monitor()\n",
    "        calibrated.append(current)\n",
    "        print(current.config_path)\n",
    "        \n",
    "for c in calibrating:\n",
    "    c.monitor()\n",
    "    calibrated.append(c)"
   ]
  },
  {
   "cell_type": "code",
   "execution_count": null,
   "metadata": {},
   "outputs": [],
   "source": [
    "src_params = glob('../**/best_calibration/params/parameter_trial.nc', recursive=True)\n",
    "dest_params = [p.replace('best_calibration/', '') for p in src_params]\n",
    "_ = [shutil.copy(sp, dp) for sp, dp in zip(src_params, dest_params)]"
   ]
  },
  {
   "cell_type": "code",
   "execution_count": null,
   "metadata": {},
   "outputs": [],
   "source": [
    "def open_stats(o):\n",
    "    file = str(o.config_path) + '/OstModel0.txt'\n",
    "    site = str(o.config_path).split('/')[-2]\n",
    "    if os.path.exists(file):\n",
    "        df = pd.read_csv(file, delim_whitespace=True)\n",
    "        if len(df) <= o.max_iters:\n",
    "            return site, None\n",
    "        else:\n",
    "            return site, df\n",
    "    else:\n",
    "        return site, None"
   ]
  },
  {
   "cell_type": "code",
   "execution_count": null,
   "metadata": {},
   "outputs": [],
   "source": [
    "def open_metrics(o):\n",
    "    file = str(o.config_path) + '/metrics_log.csv'\n",
    "    site = str(o.config_path).split('/')[-2]\n",
    "    if os.path.exists(file):\n",
    "        df = pd.read_csv(file, names=['kge', 'mae', 'mse', 'rmse', 'nse'])\n",
    "        if len(df) < o.max_iters:\n",
    "            return site, None\n",
    "        else:\n",
    "            return site, df\n",
    "    else:\n",
    "        return site, None"
   ]
  },
  {
   "cell_type": "code",
   "execution_count": null,
   "metadata": {},
   "outputs": [],
   "source": [
    "all_df = [open_stats(o) for o in calibrated]\n",
    "calib_sites = [a[0] for a in all_df if a[1] is not None]\n",
    "bad_sites = [a[0] for a in all_df if a[1] is None]\n",
    "all_df = [a[1][-501:] for a in all_df if a[1] is not None]\n",
    "all_df = pd.concat(all_df)\n",
    "new_idx = [(max_iter + 1)* [s] for s in calib_sites]\n",
    "all_df.index = pd.Index(np.hstack(new_idx))"
   ]
  },
  {
   "cell_type": "code",
   "execution_count": null,
   "metadata": {},
   "outputs": [],
   "source": [
    "all_df['obj.function'][all_df['obj.function'] == 999999.0] = np.nan"
   ]
  },
  {
   "cell_type": "code",
   "execution_count": null,
   "metadata": {},
   "outputs": [],
   "source": [
    "bad_sites"
   ]
  },
  {
   "cell_type": "code",
   "execution_count": null,
   "metadata": {},
   "outputs": [],
   "source": [
    "calibrated_sites = np.unique(all_df.index)"
   ]
  },
  {
   "cell_type": "code",
   "execution_count": null,
   "metadata": {},
   "outputs": [],
   "source": [
    "plt.plot(np.sqrt(sorted(all_df.groupby(all_df.index)['obj.function'].min())), label='best')\n",
    "plt.plot(np.sqrt(sorted(all_df.groupby(all_df.index)['obj.function'].mean())), label='average of all runs')\n",
    "plt.plot(np.sqrt(sorted(all_df.groupby(all_df.index)['obj.function'].first())), label='initial parameters')\n",
    "#plt.ylim([0, 1])\n",
    "#plt.axhline(1.0, color='black')\n",
    "#plt.axhline(0.5, color='black')\n",
    "plt.axhline(0.0, color='black')\n",
    "plt.axhline(60.0, color='black')\n",
    "plt.axhline(100.0, color='black')\n",
    "plt.xlabel('Site number')\n",
    "plt.ylabel('RMSE ')\n",
    "plt.ylim([-10, 160])\n",
    "plt.legend()"
   ]
  },
  {
   "cell_type": "code",
   "execution_count": null,
   "metadata": {},
   "outputs": [],
   "source": [
    "np.sqrt(all_df['obj.function']).groupby(all_df['Run']).mean().plot(label='mean across all sites', color='darkgrey')\n",
    "np.sqrt(all_df['obj.function']).rolling(15, center=True, min_periods=1).mean().groupby(all_df['Run']).mean()[10:-10].plot(label='15 run running mean', linewidth=3, color='royalblue')\n",
    "np.sqrt(all_df['obj.function']).rolling(15, center=True, min_periods=1).min().groupby(all_df['Run']).mean()[10:-10].plot(label='15 run running minimum', linewidth=3, color='crimson')\n",
    "plt.ylabel(r'RMSE $(W/m^2)$')\n",
    "plt.legend()\n",
    "plt.xscale('linear')\n"
   ]
  },
  {
   "cell_type": "code",
   "execution_count": null,
   "metadata": {},
   "outputs": [],
   "source": [
    "metric_df = [open_metrics(o) for o in calibrated]\n",
    "calib_sites = [a[0] for a in metric_df if a[1] is not None]\n",
    "metric_df = [a[1] for a in metric_df if a[1] is not None]\n",
    "\n",
    "best_kge = []\n",
    "first_kge = []\n",
    "for df in metric_df:\n",
    "    best_kge.append(df['nse'].max())\n",
    "    first_kge.append(df['nse'].values[0])\n",
    "\n",
    "plt.plot(sorted(best_kge)[::-1], 'o-')\n",
    "plt.axhline(1.0, color='grey', linestyle=':')\n",
    "plt.axhline(0.8, color='grey', linestyle=':')\n",
    "plt.axhline(0.6, color='grey', linestyle=':')\n",
    "plt.axhline(0.4, color='grey', linestyle=':')\n",
    "plt.axhline(0.2, color='grey', linestyle=':')\n",
    "plt.axhline(0.0, color='grey', linestyle=':')\n",
    "plt.xlabel('Site number')\n",
    "plt.ylabel('Best NSE')\n",
    "plt.ylim([0, 1])"
   ]
  },
  {
   "cell_type": "code",
   "execution_count": null,
   "metadata": {},
   "outputs": [],
   "source": []
  }
 ],
 "metadata": {
  "kernelspec": {
   "display_name": "all",
   "language": "python",
   "name": "all"
  },
  "language_info": {
   "codemirror_mode": {
    "name": "ipython",
    "version": 3
   },
   "file_extension": ".py",
   "mimetype": "text/x-python",
   "name": "python",
   "nbconvert_exporter": "python",
   "pygments_lexer": "ipython3",
   "version": "3.7.3"
  },
  "widgets": {
   "application/vnd.jupyter.widget-state+json": {
    "state": {},
    "version_major": 2,
    "version_minor": 0
   }
  }
 },
 "nbformat": 4,
 "nbformat_minor": 4
}
